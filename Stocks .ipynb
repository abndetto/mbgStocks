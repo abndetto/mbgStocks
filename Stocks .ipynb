{
 "cells": [
  {
   "cell_type": "code",
   "execution_count": 4,
   "id": "1ce6e491",
   "metadata": {},
   "outputs": [
    {
     "name": "stdout",
     "output_type": "stream",
     "text": [
      "Please enter a stock tickerIBM\n"
     ]
    },
    {
     "data": {
      "text/plain": [
       "\"IBM's lowest price was 124.7971 a share at 09:00:00. Their highest price was 128.58 a share at 20:00:00. The average price over the alloted time (100 intervals, 60min each) was 127.94868249999999 a share\""
      ]
     },
     "execution_count": 4,
     "metadata": {},
     "output_type": "execute_result"
    }
   ],
   "source": [
    "import json\n",
    "import requests \n",
    "\n",
    "av_key = \"4S6UI9UH7P232S81\"\n",
    "#functions: TIME_SERIES_INTRADAY,\n",
    "\n",
    "\n",
    "def stock_time_series(symbol = \"IBM\", interval = \"60min\"):\n",
    "    key = av_key\n",
    "    query= f'https://www.alphavantage.co/query?function=TIME_SERIES_INTRADAY&symbol={symbol}&interval={interval}&apikey={key}'\n",
    "    data = requests.get(query)\n",
    "    data_text = data.text\n",
    "    data_dict = json.loads(data_text)\n",
    "    data_set = data_dict[\"Time Series (60min)\"]\n",
    "    keys_lst = list(data_set.keys())\n",
    "    num_intervals = len(keys_lst)\n",
    "    lowest_val = float(data_set[keys_lst[2]][\"3. low\"])\n",
    "    highest_val = float(data_set[keys_lst[2]][\"2. high\"])\n",
    "    for key in data_set.keys():\n",
    "        if float(data_set[key][\"3. low\"]) <= lowest_val:\n",
    "            lowest_val = float(data_set[key][\"3. low\"])\n",
    "            lowtime = key\n",
    "        else:\n",
    "            pass\n",
    "    for key in data_set.keys():\n",
    "        if float(data_set[key][\"2. high\"]) >= lowest_val:\n",
    "            highest_val = float(data_set[key][\"2. high\"])\n",
    "            hightime = key\n",
    "        else:\n",
    "            pass\n",
    "    counter = 0\n",
    "    total_sum = 0\n",
    "    for key in data_set.keys():\n",
    "        counter += 1\n",
    "        high_plus_low_avg = (float(data_set[key][\"2. high\"]) + float(data_set[key][\"3. low\"]))/2\n",
    "        total_sum += high_plus_low_avg\n",
    "    avg_price = total_sum / counter\n",
    "        \n",
    "        \n",
    "    return(symbol + \"\"\"'s lowest price was \"\"\" + str(lowest_val) + \" a share at \" + lowtime[-8:] + \". Their highest price was \" + str(highest_val) + \" a share at \" + hightime[-8:] + \". The average price\" + \" over the alloted time (\" + str(num_intervals) +\" intervals, \" + interval + \" each) was \" + str(avg_price) + \" a share\")\n",
    "        \n",
    "stock_ticker = input(\"Please enter a stock ticker\")\n",
    "stock_time_series(\"IBM\")"
   ]
  },
  {
   "cell_type": "code",
   "execution_count": null,
   "id": "901b7838",
   "metadata": {},
   "outputs": [],
   "source": []
  }
 ],
 "metadata": {
  "kernelspec": {
   "display_name": "Python 3 (ipykernel)",
   "language": "python",
   "name": "python3"
  },
  "language_info": {
   "codemirror_mode": {
    "name": "ipython",
    "version": 3
   },
   "file_extension": ".py",
   "mimetype": "text/x-python",
   "name": "python",
   "nbconvert_exporter": "python",
   "pygments_lexer": "ipython3",
   "version": "3.9.7"
  }
 },
 "nbformat": 4,
 "nbformat_minor": 5
}
